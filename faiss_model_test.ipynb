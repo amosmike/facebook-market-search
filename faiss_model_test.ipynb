{
 "cells": [
  {
   "cell_type": "code",
   "execution_count": 1,
   "metadata": {},
   "outputs": [
    {
     "name": "stderr",
     "output_type": "stream",
     "text": [
      "/Users/michaelamos/.local/lib/python3.9/site-packages/tqdm/auto.py:22: TqdmWarning: IProgress not found. Please update jupyter and ipywidgets. See https://ipywidgets.readthedocs.io/en/stable/user_install.html\n",
      "  from .autonotebook import tqdm as notebook_tqdm\n"
     ]
    }
   ],
   "source": [
    "import faiss\n",
    "import json\n",
    "import tensorflow as tf\n",
    "import numpy as np\n",
    "import torch"
   ]
  },
  {
   "cell_type": "code",
   "execution_count": 17,
   "metadata": {},
   "outputs": [
    {
     "ename": "ValueError",
     "evalue": "Attempt to convert a value (<bound method DataFrame.items of      912bb259-3ad9-457b-9db1-ce1da9016057.jpg  \\\n0                                    0.006461   \n1                                    0.000000   \n2                                    0.127236   \n3                                    0.000000   \n4                                    0.077146   \n..                                        ...   \n995                                  0.010635   \n996                                  0.000000   \n997                                  0.053910   \n998                                  0.000000   \n999                                  0.000000   \n\n     b166d305-b852-4bdd-83f4-465b20da94fa.jpg  \\\n0                                    0.083969   \n1                                    0.002204   \n2                                    0.036943   \n3                                    0.000000   \n4                                    0.129192   \n..                                        ...   \n995                                  0.027985   \n996                                  0.000000   \n997                                  0.098819   \n998                                  0.000000   \n999                                  0.000000   \n\n     68f5a29d-0075-4d60-81c1-ab684a82e50c.jpg  \\\n0                                    0.000000   \n1                                    0.082942   \n2                                    0.000000   \n3                                    0.000000   \n4                                    0.000000   \n..                                        ...   \n995                                  0.142943   \n996                                  0.005732   \n997                                  0.161622   \n998                                  0.065353   \n999                                  0.101775   \n\n     f6a309d7-d247-446a-9b5e-aceefdd4334d.jpg  \\\n0                                    0.000000   \n1                                    0.001877   \n2                                    0.080022   \n3                                    0.000000   \n4                                    0.019869   \n..                                        ...   \n995                                  0.050735   \n996                                  0.142077   \n997                                  0.161557   \n998                                  0.000000   \n999                                  0.151431   \n\n     2c2b3a6f-15b3-4289-937a-15482d9f5781.jpg  \\\n0                                    0.000000   \n1                                    0.000000   \n2                                    0.122374   \n3                                    0.030926   \n4                                    0.007266   \n..                                        ...   \n995                                  0.000000   \n996                                  0.087693   \n997                                  0.127481   \n998                                  0.000000   \n999                                  0.000000   \n\n     5e8d17b2-f8e7-403b-bbb1-fa8dfdd3ae6a.jpg  \\\n0                                    0.000000   \n1                                    0.000000   \n2                                    0.115761   \n3                                    0.000000   \n4                                    0.021191   \n..                                        ...   \n995                                  0.000000   \n996                                  0.135403   \n997                                  0.138508   \n998                                  0.001773   \n999                                  0.000000   \n\n     ed2f3144-6eeb-47a8-855b-76df8774f39b.jpg  \\\n0                                    0.000000   \n1                                    0.009378   \n2                                    0.000000   \n3                                    0.000000   \n4                                    0.000000   \n..                                        ...   \n995                                  0.036259   \n996                                  0.228596   \n997                                  0.026253   \n998                                  0.010887   \n999                                  0.000000   \n\n     570bbec2-55e6-4e8b-834c-dfa45bea3e94.jpg  \\\n0                                    0.000000   \n1                                    0.099708   \n2                                    0.000000   \n3                                    0.000000   \n4                                    0.071681   \n..                                        ...   \n995                                  0.074053   \n996                                  0.258838   \n997                                  0.224649   \n998                                  0.095493   \n999                                  0.000000   \n\n     1f99d362-7518-43c9-b50d-c28769512db8.jpg  \\\n0                                    0.000000   \n1                                    0.000000   \n2                                    0.000000   \n3                                    0.036983   \n4                                    0.008019   \n..                                        ...   \n995                                  0.115961   \n996                                  0.000000   \n997                                  0.163147   \n998                                  0.000000   \n999                                  0.228521   \n\n     30ea4203-cc60-46fd-9554-5e72ad63c30e.jpg  ...  \\\n0                                    0.000000  ...   \n1                                    0.000000  ...   \n2                                    0.004080  ...   \n3                                    0.000000  ...   \n4                                    0.000000  ...   \n..                                        ...  ...   \n995                                  0.000000  ...   \n996                                  0.154884  ...   \n997                                  0.015162  ...   \n998                                  0.003600  ...   \n999                                  0.111359  ...   \n\n     fd973410-5180-43db-8130-bbe3a504bd7b.jpg  \\\n0                                    0.008848   \n1                                    0.061594   \n2                                    0.000000   \n3                                    0.000000   \n4                                    0.089107   \n..                                        ...   \n995                                  0.140531   \n996                                  0.298096   \n997                                  0.175961   \n998                                  0.008111   \n999                                  0.000000   \n\n     1fe4acca-e6a7-451b-b0df-217d11ad116c.jpg  \\\n0                                    0.004016   \n1                                    0.011386   \n2                                    0.000000   \n3                                    0.000000   \n4                                    0.078456   \n..                                        ...   \n995                                  0.000000   \n996                                  0.151989   \n997                                  0.108141   \n998                                  0.000000   \n999                                  0.025788   \n\n     953368ca-7d6e-433e-aafc-8709cbf7016d.jpg  \\\n0                                    0.087533   \n1                                    0.078470   \n2                                    0.000000   \n3                                    0.000000   \n4                                    0.062414   \n..                                        ...   \n995                                  0.083910   \n996                                  0.207972   \n997                                  0.191809   \n998                                  0.000000   \n999                                  0.000162   \n\n     6205c840-7f59-405c-9722-5f6652056ec7.jpg  \\\n0                                    0.031631   \n1                                    0.049885   \n2                                    0.000000   \n3                                    0.000000   \n4                                    0.000000   \n..                                        ...   \n995                                  0.000000   \n996                                  0.217661   \n997                                  0.125848   \n998                                  0.000000   \n999                                  0.000605   \n\n     b1466df4-594b-4f83-a66c-f9835d982c92.jpg  \\\n0                                    0.205602   \n1                                    0.000530   \n2                                    0.005910   \n3                                    0.000000   \n4                                    0.055252   \n..                                        ...   \n995                                  0.000000   \n996                                  0.000000   \n997                                  0.128113   \n998                                  0.000000   \n999                                  0.126389   \n\n     cdec1c5c-c4b1-42db-afbe-3fa68ea4b87d.jpg  \\\n0                                    0.000000   \n1                                    0.000000   \n2                                    0.117228   \n3                                    0.000000   \n4                                    0.000000   \n..                                        ...   \n995                                  0.000000   \n996                                  0.000000   \n997                                  0.190603   \n998                                  0.063885   \n999                                  0.178136   \n\n     dc99e40f-6b15-494d-9fb7-f0d02e9781f9.jpg  \\\n0                                    0.000000   \n1                                    0.048790   \n2                                    0.051894   \n3                                    0.000000   \n4                                    0.000000   \n..                                        ...   \n995                                  0.000000   \n996                                  0.251698   \n997                                  0.000000   \n998                                  0.000000   \n999                                  0.000000   \n\n     c8488028-bf07-4258-a4c2-56d2fe387835.jpg  \\\n0                                    0.000000   \n1                                    0.105130   \n2                                    0.025011   \n3                                    0.063438   \n4                                    0.000000   \n..                                        ...   \n995                                  0.000000   \n996                                  0.197266   \n997                                  0.000000   \n998                                  0.000000   \n999                                  0.000000   \n\n     c6113145-89c8-47cd-9211-38f29d016cc7.jpg  \\\n0                                    0.000000   \n1                                    0.000343   \n2                                    0.123107   \n3                                    0.142987   \n4                                    0.000000   \n..                                        ...   \n995                                  0.054000   \n996                                  0.109203   \n997                                  0.000000   \n998                                  0.079022   \n999                                  0.025208   \n\n     ed2aaf88-616c-4e6b-af49-bbdf7c0fbd06.jpg  \n0                                    0.000000  \n1                                    0.000000  \n2                                    0.000000  \n3                                    0.000000  \n4                                    0.000000  \n..                                        ...  \n995                                  0.035543  \n996                                  0.248236  \n997                                  0.219614  \n998                                  0.000000  \n999                                  0.019930  \n\n[1000 rows x 12604 columns]>) with an unsupported type (<class 'method'>) to a Tensor.",
     "output_type": "error",
     "traceback": [
      "\u001b[0;31m---------------------------------------------------------------------------\u001b[0m",
      "\u001b[0;31mTypeError\u001b[0m                                 Traceback (most recent call last)",
      "File \u001b[0;32m~/miniforge3/envs/pandas_env/lib/python3.9/site-packages/tensorflow/python/data/util/structure.py:102\u001b[0m, in \u001b[0;36mnormalize_element\u001b[0;34m(element, element_signature)\u001b[0m\n\u001b[1;32m    101\u001b[0m   \u001b[39mif\u001b[39;00m spec \u001b[39mis\u001b[39;00m \u001b[39mNone\u001b[39;00m:\n\u001b[0;32m--> 102\u001b[0m     spec \u001b[39m=\u001b[39m type_spec_from_value(t, use_fallback\u001b[39m=\u001b[39;49m\u001b[39mFalse\u001b[39;49;00m)\n\u001b[1;32m    103\u001b[0m \u001b[39mexcept\u001b[39;00m \u001b[39mTypeError\u001b[39;00m:\n\u001b[1;32m    104\u001b[0m   \u001b[39m# TypeError indicates it was not possible to compute a `TypeSpec` for\u001b[39;00m\n\u001b[1;32m    105\u001b[0m   \u001b[39m# the value. As a fallback try converting the value to a tensor.\u001b[39;00m\n",
      "File \u001b[0;32m~/miniforge3/envs/pandas_env/lib/python3.9/site-packages/tensorflow/python/data/util/structure.py:485\u001b[0m, in \u001b[0;36mtype_spec_from_value\u001b[0;34m(element, use_fallback)\u001b[0m\n\u001b[1;32m    482\u001b[0m     logging\u001b[39m.\u001b[39mvlog(\n\u001b[1;32m    483\u001b[0m         \u001b[39m3\u001b[39m, \u001b[39m\"\u001b[39m\u001b[39mFailed to convert \u001b[39m\u001b[39m%r\u001b[39;00m\u001b[39m to tensor: \u001b[39m\u001b[39m%s\u001b[39;00m\u001b[39m\"\u001b[39m \u001b[39m%\u001b[39m (\u001b[39mtype\u001b[39m(element)\u001b[39m.\u001b[39m\u001b[39m__name__\u001b[39m, e))\n\u001b[0;32m--> 485\u001b[0m \u001b[39mraise\u001b[39;00m \u001b[39mTypeError\u001b[39;00m(\u001b[39m\"\u001b[39m\u001b[39mCould not build a `TypeSpec` for \u001b[39m\u001b[39m{}\u001b[39;00m\u001b[39m with type \u001b[39m\u001b[39m{}\u001b[39;00m\u001b[39m\"\u001b[39m\u001b[39m.\u001b[39mformat(\n\u001b[1;32m    486\u001b[0m     element,\n\u001b[1;32m    487\u001b[0m     \u001b[39mtype\u001b[39m(element)\u001b[39m.\u001b[39m\u001b[39m__name__\u001b[39m))\n",
      "\u001b[0;31mTypeError\u001b[0m: Could not build a `TypeSpec` for <bound method DataFrame.items of      912bb259-3ad9-457b-9db1-ce1da9016057.jpg  \\\n0                                    0.006461   \n1                                    0.000000   \n2                                    0.127236   \n3                                    0.000000   \n4                                    0.077146   \n..                                        ...   \n995                                  0.010635   \n996                                  0.000000   \n997                                  0.053910   \n998                                  0.000000   \n999                                  0.000000   \n\n     b166d305-b852-4bdd-83f4-465b20da94fa.jpg  \\\n0                                    0.083969   \n1                                    0.002204   \n2                                    0.036943   \n3                                    0.000000   \n4                                    0.129192   \n..                                        ...   \n995                                  0.027985   \n996                                  0.000000   \n997                                  0.098819   \n998                                  0.000000   \n999                                  0.000000   \n\n     68f5a29d-0075-4d60-81c1-ab684a82e50c.jpg  \\\n0                                    0.000000   \n1                                    0.082942   \n2                                    0.000000   \n3                                    0.000000   \n4                                    0.000000   \n..                                        ...   \n995                                  0.142943   \n996                                  0.005732   \n997                                  0.161622   \n998                                  0.065353   \n999                                  0.101775   \n\n     f6a309d7-d247-446a-9b5e-aceefdd4334d.jpg  \\\n0                                    0.000000   \n1                                    0.001877   \n2                                    0.080022   \n3                                    0.000000   \n4                                    0.019869   \n..                                        ...   \n995                                  0.050735   \n996                                  0.142077   \n997                                  0.161557   \n998                                  0.000000   \n999                                  0.151431   \n\n     2c2b3a6f-15b3-4289-937a-15482d9f5781.jpg  \\\n0                                    0.000000   \n1                                    0.000000   \n2                                    0.122374   \n3                                    0.030926   \n4                                    0.007266   \n..                                        ...   \n995                                  0.000000   \n996                                  0.087693   \n997                                  0.127481   \n998                                  0.000000   \n999                                  0.000000   \n\n     5e8d17b2-f8e7-403b-bbb1-fa8dfdd3ae6a.jpg  \\\n0                                    0.000000   \n1                                    0.000000   \n2                                    0.115761   \n3                                    0.000000   \n4                                    0.021191   \n..                                        ...   \n995                                  0.000000   \n996                                  0.135403   \n997                                  0.138508   \n998                                  0.001773   \n999                                  0.000000   \n\n     ed2f3144-6eeb-47a8-855b-76df8774f39b.jpg  \\\n0                                    0.000000   \n1                                    0.009378   \n2                                    0.000000   \n3                                    0.000000   \n4                                    0.000000   \n..                                        ...   \n995                                  0.036259   \n996                                  0.228596   \n997                                  0.026253   \n998                                  0.010887   \n999                                  0.000000   \n\n     570bbec2-55e6-4e8b-834c-dfa45bea3e94.jpg  \\\n0                                    0.000000   \n1                                    0.099708   \n2                                    0.000000   \n3                                    0.000000   \n4                                    0.071681   \n..                                        ...   \n995                                  0.074053   \n996                                  0.258838   \n997                                  0.224649   \n998                                  0.095493   \n999                                  0.000000   \n\n     1f99d362-7518-43c9-b50d-c28769512db8.jpg  \\\n0                                    0.000000   \n1                                    0.000000   \n2                                    0.000000   \n3                                    0.036983   \n4                                    0.008019   \n..                                        ...   \n995                                  0.115961   \n996                                  0.000000   \n997                                  0.163147   \n998                                  0.000000   \n999                                  0.228521   \n\n     30ea4203-cc60-46fd-9554-5e72ad63c30e.jpg  ...  \\\n0                                    0.000000  ...   \n1                                    0.000000  ...   \n2                                    0.004080  ...   \n3                                    0.000000  ...   \n4                                    0.000000  ...   \n..                                        ...  ...   \n995                                  0.000000  ...   \n996                                  0.154884  ...   \n997                                  0.015162  ...   \n998                                  0.003600  ...   \n999                                  0.111359  ...   \n\n     fd973410-5180-43db-8130-bbe3a504bd7b.jpg  \\\n0                                    0.008848   \n1                                    0.061594   \n2                                    0.000000   \n3                                    0.000000   \n4                                    0.089107   \n..                                        ...   \n995                                  0.140531   \n996                                  0.298096   \n997                                  0.175961   \n998                                  0.008111   \n999                                  0.000000   \n\n     1fe4acca-e6a7-451b-b0df-217d11ad116c.jpg  \\\n0                                    0.004016   \n1                                    0.011386   \n2                                    0.000000   \n3                                    0.000000   \n4                                    0.078456   \n..                                        ...   \n995                                  0.000000   \n996                                  0.151989   \n997                                  0.108141   \n998                                  0.000000   \n999                                  0.025788   \n\n     953368ca-7d6e-433e-aafc-8709cbf7016d.jpg  \\\n0                                    0.087533   \n1                                    0.078470   \n2                                    0.000000   \n3                                    0.000000   \n4                                    0.062414   \n..                                        ...   \n995                                  0.083910   \n996                                  0.207972   \n997                                  0.191809   \n998                                  0.000000   \n999                                  0.000162   \n\n     6205c840-7f59-405c-9722-5f6652056ec7.jpg  \\\n0                                    0.031631   \n1                                    0.049885   \n2                                    0.000000   \n3                                    0.000000   \n4                                    0.000000   \n..                                        ...   \n995                                  0.000000   \n996                                  0.217661   \n997                                  0.125848   \n998                                  0.000000   \n999                                  0.000605   \n\n     b1466df4-594b-4f83-a66c-f9835d982c92.jpg  \\\n0                                    0.205602   \n1                                    0.000530   \n2                                    0.005910   \n3                                    0.000000   \n4                                    0.055252   \n..                                        ...   \n995                                  0.000000   \n996                                  0.000000   \n997                                  0.128113   \n998                                  0.000000   \n999                                  0.126389   \n\n     cdec1c5c-c4b1-42db-afbe-3fa68ea4b87d.jpg  \\\n0                                    0.000000   \n1                                    0.000000   \n2                                    0.117228   \n3                                    0.000000   \n4                                    0.000000   \n..                                        ...   \n995                                  0.000000   \n996                                  0.000000   \n997                                  0.190603   \n998                                  0.063885   \n999                                  0.178136   \n\n     dc99e40f-6b15-494d-9fb7-f0d02e9781f9.jpg  \\\n0                                    0.000000   \n1                                    0.048790   \n2                                    0.051894   \n3                                    0.000000   \n4                                    0.000000   \n..                                        ...   \n995                                  0.000000   \n996                                  0.251698   \n997                                  0.000000   \n998                                  0.000000   \n999                                  0.000000   \n\n     c8488028-bf07-4258-a4c2-56d2fe387835.jpg  \\\n0                                    0.000000   \n1                                    0.105130   \n2                                    0.025011   \n3                                    0.063438   \n4                                    0.000000   \n..                                        ...   \n995                                  0.000000   \n996                                  0.197266   \n997                                  0.000000   \n998                                  0.000000   \n999                                  0.000000   \n\n     c6113145-89c8-47cd-9211-38f29d016cc7.jpg  \\\n0                                    0.000000   \n1                                    0.000343   \n2                                    0.123107   \n3                                    0.142987   \n4                                    0.000000   \n..                                        ...   \n995                                  0.054000   \n996                                  0.109203   \n997                                  0.000000   \n998                                  0.079022   \n999                                  0.025208   \n\n     ed2aaf88-616c-4e6b-af49-bbdf7c0fbd06.jpg  \n0                                    0.000000  \n1                                    0.000000  \n2                                    0.000000  \n3                                    0.000000  \n4                                    0.000000  \n..                                        ...  \n995                                  0.035543  \n996                                  0.248236  \n997                                  0.219614  \n998                                  0.000000  \n999                                  0.019930  \n\n[1000 rows x 12604 columns]> with type method",
      "\nDuring handling of the above exception, another exception occurred:\n",
      "\u001b[0;31mValueError\u001b[0m                                Traceback (most recent call last)",
      "\u001b[1;32m/Users/michaelamos/Documents/AICore/Remote-Reps/facebook-market-search/faiss_model_test.ipynb Cell 2\u001b[0m in \u001b[0;36m<cell line: 5>\u001b[0;34m()\u001b[0m\n\u001b[1;32m      <a href='vscode-notebook-cell:/Users/michaelamos/Documents/AICore/Remote-Reps/facebook-market-search/faiss_model_test.ipynb#X13sZmlsZQ%3D%3D?line=1'>2</a>\u001b[0m \u001b[39mimport\u001b[39;00m \u001b[39mtensorflow\u001b[39;00m \u001b[39mas\u001b[39;00m \u001b[39mtf\u001b[39;00m\n\u001b[1;32m      <a href='vscode-notebook-cell:/Users/michaelamos/Documents/AICore/Remote-Reps/facebook-market-search/faiss_model_test.ipynb#X13sZmlsZQ%3D%3D?line=3'>4</a>\u001b[0m js \u001b[39m=\u001b[39m pd\u001b[39m.\u001b[39mread_json(\u001b[39m'\u001b[39m\u001b[39mimage_embeddings.json\u001b[39m\u001b[39m'\u001b[39m)\n\u001b[0;32m----> <a href='vscode-notebook-cell:/Users/michaelamos/Documents/AICore/Remote-Reps/facebook-market-search/faiss_model_test.ipynb#X13sZmlsZQ%3D%3D?line=4'>5</a>\u001b[0m ds \u001b[39m=\u001b[39m tf\u001b[39m.\u001b[39;49mdata\u001b[39m.\u001b[39;49mDataset\u001b[39m.\u001b[39;49mfrom_tensor_slices((js\u001b[39m.\u001b[39;49mvalues, js\u001b[39m.\u001b[39;49mitems))\n",
      "File \u001b[0;32m~/miniforge3/envs/pandas_env/lib/python3.9/site-packages/tensorflow/python/data/ops/dataset_ops.py:793\u001b[0m, in \u001b[0;36mDatasetV2.from_tensor_slices\u001b[0;34m(tensors, name)\u001b[0m\n\u001b[1;32m    715\u001b[0m \u001b[39m@staticmethod\u001b[39m\n\u001b[1;32m    716\u001b[0m \u001b[39mdef\u001b[39;00m \u001b[39mfrom_tensor_slices\u001b[39m(tensors, name\u001b[39m=\u001b[39m\u001b[39mNone\u001b[39;00m):\n\u001b[1;32m    717\u001b[0m   \u001b[39m\"\"\"Creates a `Dataset` whose elements are slices of the given tensors.\u001b[39;00m\n\u001b[1;32m    718\u001b[0m \n\u001b[1;32m    719\u001b[0m \u001b[39m  The given tensors are sliced along their first dimension. This operation\u001b[39;00m\n\u001b[0;32m   (...)\u001b[0m\n\u001b[1;32m    791\u001b[0m \u001b[39m    Dataset: A `Dataset`.\u001b[39;00m\n\u001b[1;32m    792\u001b[0m \u001b[39m  \"\"\"\u001b[39;00m\n\u001b[0;32m--> 793\u001b[0m   \u001b[39mreturn\u001b[39;00m TensorSliceDataset(tensors, name\u001b[39m=\u001b[39;49mname)\n",
      "File \u001b[0;32m~/miniforge3/envs/pandas_env/lib/python3.9/site-packages/tensorflow/python/data/ops/dataset_ops.py:4477\u001b[0m, in \u001b[0;36mTensorSliceDataset.__init__\u001b[0;34m(self, element, is_files, name)\u001b[0m\n\u001b[1;32m   4475\u001b[0m \u001b[39mdef\u001b[39;00m \u001b[39m__init__\u001b[39m(\u001b[39mself\u001b[39m, element, is_files\u001b[39m=\u001b[39m\u001b[39mFalse\u001b[39;00m, name\u001b[39m=\u001b[39m\u001b[39mNone\u001b[39;00m):\n\u001b[1;32m   4476\u001b[0m   \u001b[39m\"\"\"See `Dataset.from_tensor_slices()` for details.\"\"\"\u001b[39;00m\n\u001b[0;32m-> 4477\u001b[0m   element \u001b[39m=\u001b[39m structure\u001b[39m.\u001b[39;49mnormalize_element(element)\n\u001b[1;32m   4478\u001b[0m   batched_spec \u001b[39m=\u001b[39m structure\u001b[39m.\u001b[39mtype_spec_from_value(element)\n\u001b[1;32m   4479\u001b[0m   \u001b[39mself\u001b[39m\u001b[39m.\u001b[39m_tensors \u001b[39m=\u001b[39m structure\u001b[39m.\u001b[39mto_batched_tensor_list(batched_spec, element)\n",
      "File \u001b[0;32m~/miniforge3/envs/pandas_env/lib/python3.9/site-packages/tensorflow/python/data/util/structure.py:107\u001b[0m, in \u001b[0;36mnormalize_element\u001b[0;34m(element, element_signature)\u001b[0m\n\u001b[1;32m    102\u001b[0m     spec \u001b[39m=\u001b[39m type_spec_from_value(t, use_fallback\u001b[39m=\u001b[39m\u001b[39mFalse\u001b[39;00m)\n\u001b[1;32m    103\u001b[0m \u001b[39mexcept\u001b[39;00m \u001b[39mTypeError\u001b[39;00m:\n\u001b[1;32m    104\u001b[0m   \u001b[39m# TypeError indicates it was not possible to compute a `TypeSpec` for\u001b[39;00m\n\u001b[1;32m    105\u001b[0m   \u001b[39m# the value. As a fallback try converting the value to a tensor.\u001b[39;00m\n\u001b[1;32m    106\u001b[0m   normalized_components\u001b[39m.\u001b[39mappend(\n\u001b[0;32m--> 107\u001b[0m       ops\u001b[39m.\u001b[39;49mconvert_to_tensor(t, name\u001b[39m=\u001b[39;49m\u001b[39m\"\u001b[39;49m\u001b[39mcomponent_\u001b[39;49m\u001b[39m%d\u001b[39;49;00m\u001b[39m\"\u001b[39;49m \u001b[39m%\u001b[39;49m i))\n\u001b[1;32m    108\u001b[0m \u001b[39melse\u001b[39;00m:\n\u001b[1;32m    109\u001b[0m   \u001b[39mif\u001b[39;00m \u001b[39misinstance\u001b[39m(spec, sparse_tensor\u001b[39m.\u001b[39mSparseTensorSpec):\n",
      "File \u001b[0;32m~/miniforge3/envs/pandas_env/lib/python3.9/site-packages/tensorflow/python/profiler/trace.py:183\u001b[0m, in \u001b[0;36mtrace_wrapper.<locals>.inner_wrapper.<locals>.wrapped\u001b[0;34m(*args, **kwargs)\u001b[0m\n\u001b[1;32m    181\u001b[0m   \u001b[39mwith\u001b[39;00m Trace(trace_name, \u001b[39m*\u001b[39m\u001b[39m*\u001b[39mtrace_kwargs):\n\u001b[1;32m    182\u001b[0m     \u001b[39mreturn\u001b[39;00m func(\u001b[39m*\u001b[39margs, \u001b[39m*\u001b[39m\u001b[39m*\u001b[39mkwargs)\n\u001b[0;32m--> 183\u001b[0m \u001b[39mreturn\u001b[39;00m func(\u001b[39m*\u001b[39;49margs, \u001b[39m*\u001b[39;49m\u001b[39m*\u001b[39;49mkwargs)\n",
      "File \u001b[0;32m~/miniforge3/envs/pandas_env/lib/python3.9/site-packages/tensorflow/python/framework/ops.py:1695\u001b[0m, in \u001b[0;36mconvert_to_tensor\u001b[0;34m(value, dtype, name, as_ref, preferred_dtype, dtype_hint, ctx, accepted_result_types)\u001b[0m\n\u001b[1;32m   1690\u001b[0m       \u001b[39mraise\u001b[39;00m \u001b[39mTypeError\u001b[39;00m(\u001b[39m\"\u001b[39m\u001b[39mconvert_to_tensor did not convert to \u001b[39m\u001b[39m\"\u001b[39m\n\u001b[1;32m   1691\u001b[0m                       \u001b[39m\"\u001b[39m\u001b[39mthe preferred dtype: \u001b[39m\u001b[39m%s\u001b[39;00m\u001b[39m vs \u001b[39m\u001b[39m%s\u001b[39;00m\u001b[39m \u001b[39m\u001b[39m\"\u001b[39m \u001b[39m%\u001b[39m\n\u001b[1;32m   1692\u001b[0m                       (ret\u001b[39m.\u001b[39mdtype\u001b[39m.\u001b[39mbase_dtype, preferred_dtype\u001b[39m.\u001b[39mbase_dtype))\n\u001b[1;32m   1694\u001b[0m \u001b[39mif\u001b[39;00m ret \u001b[39mis\u001b[39;00m \u001b[39mNone\u001b[39;00m:\n\u001b[0;32m-> 1695\u001b[0m   ret \u001b[39m=\u001b[39m conversion_func(value, dtype\u001b[39m=\u001b[39;49mdtype, name\u001b[39m=\u001b[39;49mname, as_ref\u001b[39m=\u001b[39;49mas_ref)\n\u001b[1;32m   1697\u001b[0m \u001b[39mif\u001b[39;00m ret \u001b[39mis\u001b[39;00m \u001b[39mNotImplemented\u001b[39m:\n\u001b[1;32m   1698\u001b[0m   \u001b[39mcontinue\u001b[39;00m\n",
      "File \u001b[0;32m~/miniforge3/envs/pandas_env/lib/python3.9/site-packages/tensorflow/python/framework/constant_op.py:343\u001b[0m, in \u001b[0;36m_constant_tensor_conversion_function\u001b[0;34m(v, dtype, name, as_ref)\u001b[0m\n\u001b[1;32m    340\u001b[0m \u001b[39mdef\u001b[39;00m \u001b[39m_constant_tensor_conversion_function\u001b[39m(v, dtype\u001b[39m=\u001b[39m\u001b[39mNone\u001b[39;00m, name\u001b[39m=\u001b[39m\u001b[39mNone\u001b[39;00m,\n\u001b[1;32m    341\u001b[0m                                          as_ref\u001b[39m=\u001b[39m\u001b[39mFalse\u001b[39;00m):\n\u001b[1;32m    342\u001b[0m   _ \u001b[39m=\u001b[39m as_ref\n\u001b[0;32m--> 343\u001b[0m   \u001b[39mreturn\u001b[39;00m constant(v, dtype\u001b[39m=\u001b[39;49mdtype, name\u001b[39m=\u001b[39;49mname)\n",
      "File \u001b[0;32m~/miniforge3/envs/pandas_env/lib/python3.9/site-packages/tensorflow/python/framework/constant_op.py:267\u001b[0m, in \u001b[0;36mconstant\u001b[0;34m(value, dtype, shape, name)\u001b[0m\n\u001b[1;32m    170\u001b[0m \u001b[39m@tf_export\u001b[39m(\u001b[39m\"\u001b[39m\u001b[39mconstant\u001b[39m\u001b[39m\"\u001b[39m, v1\u001b[39m=\u001b[39m[])\n\u001b[1;32m    171\u001b[0m \u001b[39mdef\u001b[39;00m \u001b[39mconstant\u001b[39m(value, dtype\u001b[39m=\u001b[39m\u001b[39mNone\u001b[39;00m, shape\u001b[39m=\u001b[39m\u001b[39mNone\u001b[39;00m, name\u001b[39m=\u001b[39m\u001b[39m\"\u001b[39m\u001b[39mConst\u001b[39m\u001b[39m\"\u001b[39m):\n\u001b[1;32m    172\u001b[0m   \u001b[39m\"\"\"Creates a constant tensor from a tensor-like object.\u001b[39;00m\n\u001b[1;32m    173\u001b[0m \n\u001b[1;32m    174\u001b[0m \u001b[39m  Note: All eager `tf.Tensor` values are immutable (in contrast to\u001b[39;00m\n\u001b[0;32m   (...)\u001b[0m\n\u001b[1;32m    265\u001b[0m \u001b[39m    ValueError: if called on a symbolic tensor.\u001b[39;00m\n\u001b[1;32m    266\u001b[0m \u001b[39m  \"\"\"\u001b[39;00m\n\u001b[0;32m--> 267\u001b[0m   \u001b[39mreturn\u001b[39;00m _constant_impl(value, dtype, shape, name, verify_shape\u001b[39m=\u001b[39;49m\u001b[39mFalse\u001b[39;49;00m,\n\u001b[1;32m    268\u001b[0m                         allow_broadcast\u001b[39m=\u001b[39;49m\u001b[39mTrue\u001b[39;49;00m)\n",
      "File \u001b[0;32m~/miniforge3/envs/pandas_env/lib/python3.9/site-packages/tensorflow/python/framework/constant_op.py:279\u001b[0m, in \u001b[0;36m_constant_impl\u001b[0;34m(value, dtype, shape, name, verify_shape, allow_broadcast)\u001b[0m\n\u001b[1;32m    277\u001b[0m     \u001b[39mwith\u001b[39;00m trace\u001b[39m.\u001b[39mTrace(\u001b[39m\"\u001b[39m\u001b[39mtf.constant\u001b[39m\u001b[39m\"\u001b[39m):\n\u001b[1;32m    278\u001b[0m       \u001b[39mreturn\u001b[39;00m _constant_eager_impl(ctx, value, dtype, shape, verify_shape)\n\u001b[0;32m--> 279\u001b[0m   \u001b[39mreturn\u001b[39;00m _constant_eager_impl(ctx, value, dtype, shape, verify_shape)\n\u001b[1;32m    281\u001b[0m g \u001b[39m=\u001b[39m ops\u001b[39m.\u001b[39mget_default_graph()\n\u001b[1;32m    282\u001b[0m tensor_value \u001b[39m=\u001b[39m attr_value_pb2\u001b[39m.\u001b[39mAttrValue()\n",
      "File \u001b[0;32m~/miniforge3/envs/pandas_env/lib/python3.9/site-packages/tensorflow/python/framework/constant_op.py:304\u001b[0m, in \u001b[0;36m_constant_eager_impl\u001b[0;34m(ctx, value, dtype, shape, verify_shape)\u001b[0m\n\u001b[1;32m    302\u001b[0m \u001b[39mdef\u001b[39;00m \u001b[39m_constant_eager_impl\u001b[39m(ctx, value, dtype, shape, verify_shape):\n\u001b[1;32m    303\u001b[0m   \u001b[39m\"\"\"Creates a constant on the current device.\"\"\"\u001b[39;00m\n\u001b[0;32m--> 304\u001b[0m   t \u001b[39m=\u001b[39m convert_to_eager_tensor(value, ctx, dtype)\n\u001b[1;32m    305\u001b[0m   \u001b[39mif\u001b[39;00m shape \u001b[39mis\u001b[39;00m \u001b[39mNone\u001b[39;00m:\n\u001b[1;32m    306\u001b[0m     \u001b[39mreturn\u001b[39;00m t\n",
      "File \u001b[0;32m~/miniforge3/envs/pandas_env/lib/python3.9/site-packages/tensorflow/python/framework/constant_op.py:102\u001b[0m, in \u001b[0;36mconvert_to_eager_tensor\u001b[0;34m(value, ctx, dtype)\u001b[0m\n\u001b[1;32m    100\u001b[0m     dtype \u001b[39m=\u001b[39m dtypes\u001b[39m.\u001b[39mas_dtype(dtype)\u001b[39m.\u001b[39mas_datatype_enum\n\u001b[1;32m    101\u001b[0m ctx\u001b[39m.\u001b[39mensure_initialized()\n\u001b[0;32m--> 102\u001b[0m \u001b[39mreturn\u001b[39;00m ops\u001b[39m.\u001b[39;49mEagerTensor(value, ctx\u001b[39m.\u001b[39;49mdevice_name, dtype)\n",
      "\u001b[0;31mValueError\u001b[0m: Attempt to convert a value (<bound method DataFrame.items of      912bb259-3ad9-457b-9db1-ce1da9016057.jpg  \\\n0                                    0.006461   \n1                                    0.000000   \n2                                    0.127236   \n3                                    0.000000   \n4                                    0.077146   \n..                                        ...   \n995                                  0.010635   \n996                                  0.000000   \n997                                  0.053910   \n998                                  0.000000   \n999                                  0.000000   \n\n     b166d305-b852-4bdd-83f4-465b20da94fa.jpg  \\\n0                                    0.083969   \n1                                    0.002204   \n2                                    0.036943   \n3                                    0.000000   \n4                                    0.129192   \n..                                        ...   \n995                                  0.027985   \n996                                  0.000000   \n997                                  0.098819   \n998                                  0.000000   \n999                                  0.000000   \n\n     68f5a29d-0075-4d60-81c1-ab684a82e50c.jpg  \\\n0                                    0.000000   \n1                                    0.082942   \n2                                    0.000000   \n3                                    0.000000   \n4                                    0.000000   \n..                                        ...   \n995                                  0.142943   \n996                                  0.005732   \n997                                  0.161622   \n998                                  0.065353   \n999                                  0.101775   \n\n     f6a309d7-d247-446a-9b5e-aceefdd4334d.jpg  \\\n0                                    0.000000   \n1                                    0.001877   \n2                                    0.080022   \n3                                    0.000000   \n4                                    0.019869   \n..                                        ...   \n995                                  0.050735   \n996                                  0.142077   \n997                                  0.161557   \n998                                  0.000000   \n999                                  0.151431   \n\n     2c2b3a6f-15b3-4289-937a-15482d9f5781.jpg  \\\n0                                    0.000000   \n1                                    0.000000   \n2                                    0.122374   \n3                                    0.030926   \n4                                    0.007266   \n..                                        ...   \n995                                  0.000000   \n996                                  0.087693   \n997                                  0.127481   \n998                                  0.000000   \n999                                  0.000000   \n\n     5e8d17b2-f8e7-403b-bbb1-fa8dfdd3ae6a.jpg  \\\n0                                    0.000000   \n1                                    0.000000   \n2                                    0.115761   \n3                                    0.000000   \n4                                    0.021191   \n..                                        ...   \n995                                  0.000000   \n996                                  0.135403   \n997                                  0.138508   \n998                                  0.001773   \n999                                  0.000000   \n\n     ed2f3144-6eeb-47a8-855b-76df8774f39b.jpg  \\\n0                                    0.000000   \n1                                    0.009378   \n2                                    0.000000   \n3                                    0.000000   \n4                                    0.000000   \n..                                        ...   \n995                                  0.036259   \n996                                  0.228596   \n997                                  0.026253   \n998                                  0.010887   \n999                                  0.000000   \n\n     570bbec2-55e6-4e8b-834c-dfa45bea3e94.jpg  \\\n0                                    0.000000   \n1                                    0.099708   \n2                                    0.000000   \n3                                    0.000000   \n4                                    0.071681   \n..                                        ...   \n995                                  0.074053   \n996                                  0.258838   \n997                                  0.224649   \n998                                  0.095493   \n999                                  0.000000   \n\n     1f99d362-7518-43c9-b50d-c28769512db8.jpg  \\\n0                                    0.000000   \n1                                    0.000000   \n2                                    0.000000   \n3                                    0.036983   \n4                                    0.008019   \n..                                        ...   \n995                                  0.115961   \n996                                  0.000000   \n997                                  0.163147   \n998                                  0.000000   \n999                                  0.228521   \n\n     30ea4203-cc60-46fd-9554-5e72ad63c30e.jpg  ...  \\\n0                                    0.000000  ...   \n1                                    0.000000  ...   \n2                                    0.004080  ...   \n3                                    0.000000  ...   \n4                                    0.000000  ...   \n..                                        ...  ...   \n995                                  0.000000  ...   \n996                                  0.154884  ...   \n997                                  0.015162  ...   \n998                                  0.003600  ...   \n999                                  0.111359  ...   \n\n     fd973410-5180-43db-8130-bbe3a504bd7b.jpg  \\\n0                                    0.008848   \n1                                    0.061594   \n2                                    0.000000   \n3                                    0.000000   \n4                                    0.089107   \n..                                        ...   \n995                                  0.140531   \n996                                  0.298096   \n997                                  0.175961   \n998                                  0.008111   \n999                                  0.000000   \n\n     1fe4acca-e6a7-451b-b0df-217d11ad116c.jpg  \\\n0                                    0.004016   \n1                                    0.011386   \n2                                    0.000000   \n3                                    0.000000   \n4                                    0.078456   \n..                                        ...   \n995                                  0.000000   \n996                                  0.151989   \n997                                  0.108141   \n998                                  0.000000   \n999                                  0.025788   \n\n     953368ca-7d6e-433e-aafc-8709cbf7016d.jpg  \\\n0                                    0.087533   \n1                                    0.078470   \n2                                    0.000000   \n3                                    0.000000   \n4                                    0.062414   \n..                                        ...   \n995                                  0.083910   \n996                                  0.207972   \n997                                  0.191809   \n998                                  0.000000   \n999                                  0.000162   \n\n     6205c840-7f59-405c-9722-5f6652056ec7.jpg  \\\n0                                    0.031631   \n1                                    0.049885   \n2                                    0.000000   \n3                                    0.000000   \n4                                    0.000000   \n..                                        ...   \n995                                  0.000000   \n996                                  0.217661   \n997                                  0.125848   \n998                                  0.000000   \n999                                  0.000605   \n\n     b1466df4-594b-4f83-a66c-f9835d982c92.jpg  \\\n0                                    0.205602   \n1                                    0.000530   \n2                                    0.005910   \n3                                    0.000000   \n4                                    0.055252   \n..                                        ...   \n995                                  0.000000   \n996                                  0.000000   \n997                                  0.128113   \n998                                  0.000000   \n999                                  0.126389   \n\n     cdec1c5c-c4b1-42db-afbe-3fa68ea4b87d.jpg  \\\n0                                    0.000000   \n1                                    0.000000   \n2                                    0.117228   \n3                                    0.000000   \n4                                    0.000000   \n..                                        ...   \n995                                  0.000000   \n996                                  0.000000   \n997                                  0.190603   \n998                                  0.063885   \n999                                  0.178136   \n\n     dc99e40f-6b15-494d-9fb7-f0d02e9781f9.jpg  \\\n0                                    0.000000   \n1                                    0.048790   \n2                                    0.051894   \n3                                    0.000000   \n4                                    0.000000   \n..                                        ...   \n995                                  0.000000   \n996                                  0.251698   \n997                                  0.000000   \n998                                  0.000000   \n999                                  0.000000   \n\n     c8488028-bf07-4258-a4c2-56d2fe387835.jpg  \\\n0                                    0.000000   \n1                                    0.105130   \n2                                    0.025011   \n3                                    0.063438   \n4                                    0.000000   \n..                                        ...   \n995                                  0.000000   \n996                                  0.197266   \n997                                  0.000000   \n998                                  0.000000   \n999                                  0.000000   \n\n     c6113145-89c8-47cd-9211-38f29d016cc7.jpg  \\\n0                                    0.000000   \n1                                    0.000343   \n2                                    0.123107   \n3                                    0.142987   \n4                                    0.000000   \n..                                        ...   \n995                                  0.054000   \n996                                  0.109203   \n997                                  0.000000   \n998                                  0.079022   \n999                                  0.025208   \n\n     ed2aaf88-616c-4e6b-af49-bbdf7c0fbd06.jpg  \n0                                    0.000000  \n1                                    0.000000  \n2                                    0.000000  \n3                                    0.000000  \n4                                    0.000000  \n..                                        ...  \n995                                  0.035543  \n996                                  0.248236  \n997                                  0.219614  \n998                                  0.000000  \n999                                  0.019930  \n\n[1000 rows x 12604 columns]>) with an unsupported type (<class 'method'>) to a Tensor."
     ]
    }
   ],
   "source": [
    "import pandas as pd\n",
    "import tensorflow as tf\n",
    "\n",
    "js = pd.read_json('image_embeddings.json')\n",
    "ds = tf.data.Dataset.from_tensor_slices((js.values, js.items))"
   ]
  },
  {
   "cell_type": "code",
   "execution_count": 12,
   "metadata": {},
   "outputs": [
    {
     "ename": "AttributeError",
     "evalue": "'TensorSliceDataset' object has no attribute 'shape'",
     "output_type": "error",
     "traceback": [
      "\u001b[0;31m---------------------------------------------------------------------------\u001b[0m",
      "\u001b[0;31mAttributeError\u001b[0m                            Traceback (most recent call last)",
      "\u001b[1;32m/Users/michaelamos/Documents/AICore/Remote-Reps/facebook-market-search/faiss_model_test.ipynb Cell 3\u001b[0m in \u001b[0;36m<cell line: 1>\u001b[0;34m()\u001b[0m\n\u001b[0;32m----> <a href='vscode-notebook-cell:/Users/michaelamos/Documents/AICore/Remote-Reps/facebook-market-search/faiss_model_test.ipynb#X15sZmlsZQ%3D%3D?line=0'>1</a>\u001b[0m s \u001b[39m=\u001b[39m ds\u001b[39m.\u001b[39;49mshape\n",
      "\u001b[0;31mAttributeError\u001b[0m: 'TensorSliceDataset' object has no attribute 'shape'"
     ]
    }
   ],
   "source": [
    "s = ds.shape"
   ]
  },
  {
   "cell_type": "code",
   "execution_count": 7,
   "metadata": {},
   "outputs": [
    {
     "ename": "TypeError",
     "evalue": "'TensorSliceDataset' object is not subscriptable",
     "output_type": "error",
     "traceback": [
      "\u001b[0;31m---------------------------------------------------------------------------\u001b[0m",
      "\u001b[0;31mTypeError\u001b[0m                                 Traceback (most recent call last)",
      "\u001b[1;32m/Users/michaelamos/Documents/AICore/Remote-Reps/facebook-market-search/faiss_model_test.ipynb Cell 3\u001b[0m in \u001b[0;36m<cell line: 1>\u001b[0;34m()\u001b[0m\n\u001b[0;32m----> <a href='vscode-notebook-cell:/Users/michaelamos/Documents/AICore/Remote-Reps/facebook-market-search/faiss_model_test.ipynb#X14sZmlsZQ%3D%3D?line=0'>1</a>\u001b[0m ds[\u001b[39m0\u001b[39;49m]\n",
      "\u001b[0;31mTypeError\u001b[0m: 'TensorSliceDataset' object is not subscriptable"
     ]
    }
   ],
   "source": [
    "ds[0]"
   ]
  },
  {
   "cell_type": "code",
   "execution_count": 19,
   "metadata": {},
   "outputs": [],
   "source": [
    "## IndexFlatL2 \n",
    "\n",
    "# Opening JSON file\n",
    "f = open('image_embeddings.json')\n",
    "  \n",
    "# returns JSON object as a dictionary\n",
    "data = json.load(f)\n",
    "tensor = tf.convert_to_tensor(data)"
   ]
  },
  {
   "cell_type": "code",
   "execution_count": 3,
   "metadata": {},
   "outputs": [
    {
     "data": {
      "text/plain": [
       "dict"
      ]
     },
     "execution_count": 3,
     "metadata": {},
     "output_type": "execute_result"
    }
   ],
   "source": [
    "type(data)"
   ]
  },
  {
   "cell_type": "code",
   "execution_count": 4,
   "metadata": {},
   "outputs": [
    {
     "name": "stdout",
     "output_type": "stream",
     "text": [
      "Metal device set to: Apple M1\n",
      "\n",
      "systemMemory: 8.00 GB\n",
      "maxCacheSize: 2.67 GB\n",
      "\n"
     ]
    },
    {
     "name": "stderr",
     "output_type": "stream",
     "text": [
      "2023-02-06 18:09:11.909242: I tensorflow/core/common_runtime/pluggable_device/pluggable_device_factory.cc:305] Could not identify NUMA node of platform GPU ID 0, defaulting to 0. Your kernel may not have been built with NUMA support.\n",
      "2023-02-06 18:09:11.909640: I tensorflow/core/common_runtime/pluggable_device/pluggable_device_factory.cc:271] Created TensorFlow device (/job:localhost/replica:0/task:0/device:GPU:0 with 0 MB memory) -> physical PluggableDevice (device: 0, name: METAL, pci bus id: <undefined>)\n"
     ]
    }
   ],
   "source": [
    "arg = tf.convert_to_tensor(data, dtype=tf.float32)\n",
    "arg.shape"
   ]
  },
  {
   "cell_type": "code",
   "execution_count": null,
   "metadata": {},
   "outputs": [],
   "source": [
    "keys = list(data.keys())\n",
    "items = list(data.items())\n"
   ]
  },
  {
   "cell_type": "code",
   "execution_count": null,
   "metadata": {},
   "outputs": [],
   "source": [
    "features_list = zip(keys, items)"
   ]
  },
  {
   "cell_type": "code",
   "execution_count": null,
   "metadata": {},
   "outputs": [
    {
     "data": {
      "text/plain": [
       "numpy.ndarray"
      ]
     },
     "execution_count": 26,
     "metadata": {},
     "output_type": "execute_result"
    }
   ],
   "source": [
    "data = np.array(features_list)\n",
    "type(data)"
   ]
  },
  {
   "cell_type": "code",
   "execution_count": null,
   "metadata": {},
   "outputs": [
    {
     "name": "stdout",
     "output_type": "stream",
     "text": [
      "Metal device set to: Apple M1\n",
      "\n",
      "systemMemory: 8.00 GB\n",
      "maxCacheSize: 2.67 GB\n",
      "\n"
     ]
    },
    {
     "name": "stderr",
     "output_type": "stream",
     "text": [
      "2023-02-06 18:03:17.071461: I tensorflow/core/common_runtime/pluggable_device/pluggable_device_factory.cc:305] Could not identify NUMA node of platform GPU ID 0, defaulting to 0. Your kernel may not have been built with NUMA support.\n",
      "2023-02-06 18:03:17.072385: I tensorflow/core/common_runtime/pluggable_device/pluggable_device_factory.cc:271] Created TensorFlow device (/job:localhost/replica:0/task:0/device:GPU:0 with 0 MB memory) -> physical PluggableDevice (device: 0, name: METAL, pci bus id: <undefined>)\n"
     ]
    },
    {
     "ename": "ValueError",
     "evalue": "Failed to convert a NumPy array to a Tensor (Unsupported object type zip).",
     "output_type": "error",
     "traceback": [
      "\u001b[0;31m---------------------------------------------------------------------------\u001b[0m",
      "\u001b[0;31mValueError\u001b[0m                                Traceback (most recent call last)",
      "\u001b[1;32m/Users/michaelamos/Documents/AICore/Remote-Reps/facebook-market-search/faiss_model_test.ipynb Cell 7\u001b[0m in \u001b[0;36m<cell line: 1>\u001b[0;34m()\u001b[0m\n\u001b[0;32m----> <a href='vscode-notebook-cell:/Users/michaelamos/Documents/AICore/Remote-Reps/facebook-market-search/faiss_model_test.ipynb#W6sZmlsZQ%3D%3D?line=0'>1</a>\u001b[0m tf\u001b[39m.\u001b[39;49mshape(data)\n",
      "File \u001b[0;32m~/miniforge3/envs/pandas_env/lib/python3.9/site-packages/tensorflow/python/util/traceback_utils.py:153\u001b[0m, in \u001b[0;36mfilter_traceback.<locals>.error_handler\u001b[0;34m(*args, **kwargs)\u001b[0m\n\u001b[1;32m    151\u001b[0m \u001b[39mexcept\u001b[39;00m \u001b[39mException\u001b[39;00m \u001b[39mas\u001b[39;00m e:\n\u001b[1;32m    152\u001b[0m   filtered_tb \u001b[39m=\u001b[39m _process_traceback_frames(e\u001b[39m.\u001b[39m__traceback__)\n\u001b[0;32m--> 153\u001b[0m   \u001b[39mraise\u001b[39;00m e\u001b[39m.\u001b[39mwith_traceback(filtered_tb) \u001b[39mfrom\u001b[39;00m \u001b[39mNone\u001b[39m\n\u001b[1;32m    154\u001b[0m \u001b[39mfinally\u001b[39;00m:\n\u001b[1;32m    155\u001b[0m   \u001b[39mdel\u001b[39;00m filtered_tb\n",
      "File \u001b[0;32m~/miniforge3/envs/pandas_env/lib/python3.9/site-packages/tensorflow/python/framework/constant_op.py:102\u001b[0m, in \u001b[0;36mconvert_to_eager_tensor\u001b[0;34m(value, ctx, dtype)\u001b[0m\n\u001b[1;32m    100\u001b[0m     dtype \u001b[39m=\u001b[39m dtypes\u001b[39m.\u001b[39mas_dtype(dtype)\u001b[39m.\u001b[39mas_datatype_enum\n\u001b[1;32m    101\u001b[0m ctx\u001b[39m.\u001b[39mensure_initialized()\n\u001b[0;32m--> 102\u001b[0m \u001b[39mreturn\u001b[39;00m ops\u001b[39m.\u001b[39;49mEagerTensor(value, ctx\u001b[39m.\u001b[39;49mdevice_name, dtype)\n",
      "\u001b[0;31mValueError\u001b[0m: Failed to convert a NumPy array to a Tensor (Unsupported object type zip)."
     ]
    }
   ],
   "source": [
    "tf.shape(data)"
   ]
  },
  {
   "cell_type": "code",
   "execution_count": null,
   "metadata": {},
   "outputs": [
    {
     "data": {
      "text/plain": [
       "(1000,)"
      ]
     },
     "execution_count": 18,
     "metadata": {},
     "output_type": "execute_result"
    }
   ],
   "source": [
    "d = data[ls[0]].shape\n",
    "d"
   ]
  },
  {
   "cell_type": "code",
   "execution_count": null,
   "metadata": {},
   "outputs": [
    {
     "ename": "TypeError",
     "evalue": "Wrong number or type of arguments for overloaded function 'new_IndexFlatL2'.\n  Possible C/C++ prototypes are:\n    faiss::IndexFlatL2::IndexFlatL2(faiss::Index::idx_t)\n    faiss::IndexFlatL2::IndexFlatL2()\n",
     "output_type": "error",
     "traceback": [
      "\u001b[0;31m---------------------------------------------------------------------------\u001b[0m",
      "\u001b[0;31mTypeError\u001b[0m                                 Traceback (most recent call last)",
      "\u001b[1;32m/Users/michaelamos/Documents/AICore/Remote-Reps/facebook-market-search/faiss_model_test.ipynb Cell 9\u001b[0m in \u001b[0;36m<cell line: 1>\u001b[0;34m()\u001b[0m\n\u001b[0;32m----> <a href='vscode-notebook-cell:/Users/michaelamos/Documents/AICore/Remote-Reps/facebook-market-search/faiss_model_test.ipynb#X11sZmlsZQ%3D%3D?line=0'>1</a>\u001b[0m index \u001b[39m=\u001b[39m faiss\u001b[39m.\u001b[39;49mIndexFlatL2(d)\n",
      "File \u001b[0;32m~/miniforge3/envs/pandas_env/lib/python3.9/site-packages/faiss/swigfaiss.py:1960\u001b[0m, in \u001b[0;36mIndexFlatL2.__init__\u001b[0;34m(self, *args)\u001b[0m\n\u001b[1;32m   1959\u001b[0m \u001b[39mdef\u001b[39;00m \u001b[39m__init__\u001b[39m(\u001b[39mself\u001b[39m, \u001b[39m*\u001b[39margs):\n\u001b[0;32m-> 1960\u001b[0m     _swigfaiss\u001b[39m.\u001b[39mIndexFlatL2_swiginit(\u001b[39mself\u001b[39m, _swigfaiss\u001b[39m.\u001b[39;49mnew_IndexFlatL2(\u001b[39m*\u001b[39;49margs))\n",
      "\u001b[0;31mTypeError\u001b[0m: Wrong number or type of arguments for overloaded function 'new_IndexFlatL2'.\n  Possible C/C++ prototypes are:\n    faiss::IndexFlatL2::IndexFlatL2(faiss::Index::idx_t)\n    faiss::IndexFlatL2::IndexFlatL2()\n"
     ]
    }
   ],
   "source": [
    "index = faiss.IndexFlatL2(d) "
   ]
  }
 ],
 "metadata": {
  "kernelspec": {
   "display_name": "pandas_env",
   "language": "python",
   "name": "python3"
  },
  "language_info": {
   "codemirror_mode": {
    "name": "ipython",
    "version": 3
   },
   "file_extension": ".py",
   "mimetype": "text/x-python",
   "name": "python",
   "nbconvert_exporter": "python",
   "pygments_lexer": "ipython3",
   "version": "3.9.12"
  },
  "orig_nbformat": 4,
  "vscode": {
   "interpreter": {
    "hash": "c65f6705742fa1ffb66a8d13023e0ff7e98f925180944521e36dce08e54b2db0"
   }
  }
 },
 "nbformat": 4,
 "nbformat_minor": 2
}
