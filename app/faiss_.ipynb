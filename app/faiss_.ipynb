{
 "cells": [
  {
   "cell_type": "code",
   "execution_count": 1,
   "metadata": {},
   "outputs": [],
   "source": [
    "import json\n",
    "import numpy as np"
   ]
  },
  {
   "cell_type": "code",
   "execution_count": 2,
   "metadata": {},
   "outputs": [],
   "source": [
    "f = open('image_embeddings.json')\n",
    "  \n",
    "# returns JSON object as a dictionary\n",
    "data = json.load(f)\n"
   ]
  },
  {
   "cell_type": "code",
   "execution_count": 3,
   "metadata": {},
   "outputs": [
    {
     "data": {
      "text/plain": [
       "dict"
      ]
     },
     "execution_count": 3,
     "metadata": {},
     "output_type": "execute_result"
    }
   ],
   "source": [
    "type(data)"
   ]
  },
  {
   "cell_type": "code",
   "execution_count": 4,
   "metadata": {},
   "outputs": [],
   "source": [
    "import pandas as pd\n",
    "# pd.DataFrame([data])"
   ]
  },
  {
   "cell_type": "code",
   "execution_count": 5,
   "metadata": {},
   "outputs": [
    {
     "data": {
      "text/plain": [
       "((12604,), (12604, 1000))"
      ]
     },
     "execution_count": 5,
     "metadata": {},
     "output_type": "execute_result"
    }
   ],
   "source": [
    "index_ = np.array(list(data.keys()))\n",
    "embedding = np.array(list(data.values()))\n",
    "\n",
    "index_.shape, embedding.shape"
   ]
  },
  {
   "cell_type": "code",
   "execution_count": 6,
   "metadata": {},
   "outputs": [],
   "source": [
    "import faiss"
   ]
  },
  {
   "cell_type": "code",
   "execution_count": 7,
   "metadata": {},
   "outputs": [],
   "source": [
    "# faiss only works with float32\n",
    "embedding =  embedding.astype('float32')"
   ]
  },
  {
   "cell_type": "code",
   "execution_count": 8,
   "metadata": {},
   "outputs": [],
   "source": [
    "idx = faiss.IndexFlatL2(  embedding.shape[1] ) # feed in the size of the image embedding which is 1000 in this case\n",
    "idx.add(embedding)"
   ]
  },
  {
   "cell_type": "code",
   "execution_count": 9,
   "metadata": {},
   "outputs": [],
   "source": [
    "k = 10 # number of similar images\n",
    "\n",
    "D,I = idx.search(np.array(data['ad9b5dab-4531-47ac-8290-fc647a12c201.jpg']).reshape(1,1000), k )"
   ]
  },
  {
   "cell_type": "code",
   "execution_count": 10,
   "metadata": {},
   "outputs": [
    {
     "data": {
      "text/plain": [
       "array([['ad9b5dab-4531-47ac-8290-fc647a12c201.jpg',\n",
       "        '2950bb24-57ef-4984-a23c-da7539bd2f71.jpg',\n",
       "        'fd7dc244-adfb-4803-8035-2af1a36f1842.jpg',\n",
       "        'd5098e3a-01f0-4303-8df0-07ee7db46adc.jpg',\n",
       "        '7f9f9380-723c-4470-9250-c3d4ff7f21a4.jpg',\n",
       "        '31b1afb2-9cbb-4cb1-831f-70e88762d2e6.jpg',\n",
       "        '0e1d21d8-c0a5-421f-b1eb-367658016495.jpg',\n",
       "        '6d57b69f-ec2e-4942-a801-3706c0699592.jpg',\n",
       "        'c45a7fd7-78e6-4583-81a9-a43a71c4b150.jpg',\n",
       "        '741eec9c-666d-4a23-8ce8-c7bd201e7060.jpg']], dtype='<U40')"
      ]
     },
     "execution_count": 10,
     "metadata": {},
     "output_type": "execute_result"
    }
   ],
   "source": [
    "index_[I]"
   ]
  }
 ],
 "metadata": {
  "kernelspec": {
   "display_name": "pandas_env",
   "language": "python",
   "name": "python3"
  },
  "language_info": {
   "codemirror_mode": {
    "name": "ipython",
    "version": 3
   },
   "file_extension": ".py",
   "mimetype": "text/x-python",
   "name": "python",
   "nbconvert_exporter": "python",
   "pygments_lexer": "ipython3",
   "version": "3.9.12"
  },
  "orig_nbformat": 4,
  "vscode": {
   "interpreter": {
    "hash": "c65f6705742fa1ffb66a8d13023e0ff7e98f925180944521e36dce08e54b2db0"
   }
  }
 },
 "nbformat": 4,
 "nbformat_minor": 2
}
