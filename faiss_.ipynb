{
 "cells": [
  {
   "cell_type": "code",
   "execution_count": 1,
   "metadata": {},
   "outputs": [],
   "source": [
    "import json\n",
    "import numpy as np"
   ]
  },
  {
   "cell_type": "code",
   "execution_count": 2,
   "metadata": {},
   "outputs": [],
   "source": [
    "f = open('image_embeddings.json')\n",
    "  \n",
    "# returns JSON object as a dictionary\n",
    "data = json.load(f)\n"
   ]
  },
  {
   "cell_type": "code",
   "execution_count": 4,
   "metadata": {},
   "outputs": [
    {
     "data": {
      "text/plain": [
       "dict"
      ]
     },
     "execution_count": 4,
     "metadata": {},
     "output_type": "execute_result"
    }
   ],
   "source": [
    "type(data)"
   ]
  },
  {
   "cell_type": "code",
   "execution_count": 9,
   "metadata": {},
   "outputs": [
    {
     "data": {
      "text/html": [
       "<div>\n",
       "<style scoped>\n",
       "    .dataframe tbody tr th:only-of-type {\n",
       "        vertical-align: middle;\n",
       "    }\n",
       "\n",
       "    .dataframe tbody tr th {\n",
       "        vertical-align: top;\n",
       "    }\n",
       "\n",
       "    .dataframe thead th {\n",
       "        text-align: right;\n",
       "    }\n",
       "</style>\n",
       "<table border=\"1\" class=\"dataframe\">\n",
       "  <thead>\n",
       "    <tr style=\"text-align: right;\">\n",
       "      <th></th>\n",
       "      <th>912bb259-3ad9-457b-9db1-ce1da9016057.jpg</th>\n",
       "      <th>b166d305-b852-4bdd-83f4-465b20da94fa.jpg</th>\n",
       "      <th>68f5a29d-0075-4d60-81c1-ab684a82e50c.jpg</th>\n",
       "      <th>f6a309d7-d247-446a-9b5e-aceefdd4334d.jpg</th>\n",
       "      <th>2c2b3a6f-15b3-4289-937a-15482d9f5781.jpg</th>\n",
       "      <th>5e8d17b2-f8e7-403b-bbb1-fa8dfdd3ae6a.jpg</th>\n",
       "      <th>ed2f3144-6eeb-47a8-855b-76df8774f39b.jpg</th>\n",
       "      <th>570bbec2-55e6-4e8b-834c-dfa45bea3e94.jpg</th>\n",
       "      <th>1f99d362-7518-43c9-b50d-c28769512db8.jpg</th>\n",
       "      <th>30ea4203-cc60-46fd-9554-5e72ad63c30e.jpg</th>\n",
       "      <th>...</th>\n",
       "      <th>fd973410-5180-43db-8130-bbe3a504bd7b.jpg</th>\n",
       "      <th>1fe4acca-e6a7-451b-b0df-217d11ad116c.jpg</th>\n",
       "      <th>953368ca-7d6e-433e-aafc-8709cbf7016d.jpg</th>\n",
       "      <th>6205c840-7f59-405c-9722-5f6652056ec7.jpg</th>\n",
       "      <th>b1466df4-594b-4f83-a66c-f9835d982c92.jpg</th>\n",
       "      <th>cdec1c5c-c4b1-42db-afbe-3fa68ea4b87d.jpg</th>\n",
       "      <th>dc99e40f-6b15-494d-9fb7-f0d02e9781f9.jpg</th>\n",
       "      <th>c8488028-bf07-4258-a4c2-56d2fe387835.jpg</th>\n",
       "      <th>c6113145-89c8-47cd-9211-38f29d016cc7.jpg</th>\n",
       "      <th>ed2aaf88-616c-4e6b-af49-bbdf7c0fbd06.jpg</th>\n",
       "    </tr>\n",
       "  </thead>\n",
       "  <tbody>\n",
       "    <tr>\n",
       "      <th>0</th>\n",
       "      <td>[0.0064611658453941345, 0.0, 0.127236172556877...</td>\n",
       "      <td>[0.08396860957145691, 0.002204257994890213, 0....</td>\n",
       "      <td>[0.0, 0.08294190466403961, 0.0, 0.0, 0.0, 0.0,...</td>\n",
       "      <td>[0.0, 0.0018769539892673492, 0.080022066831588...</td>\n",
       "      <td>[0.0, 0.0, 0.12237399071455002, 0.030925899744...</td>\n",
       "      <td>[0.0, 0.0, 0.11576147377490997, 0.0, 0.0211910...</td>\n",
       "      <td>[0.0, 0.00937836617231369, 0.0, 0.0, 0.0, 0.08...</td>\n",
       "      <td>[0.0, 0.09970848262310028, 0.0, 0.0, 0.0716813...</td>\n",
       "      <td>[0.0, 0.0, 0.0, 0.03698289021849632, 0.0080186...</td>\n",
       "      <td>[0.0, 0.0, 0.004079833626747131, 0.0, 0.0, 0.0...</td>\n",
       "      <td>...</td>\n",
       "      <td>[0.008848115801811218, 0.06159370020031929, 0....</td>\n",
       "      <td>[0.004016006365418434, 0.011385941877961159, 0...</td>\n",
       "      <td>[0.08753276616334915, 0.07846993207931519, 0.0...</td>\n",
       "      <td>[0.03163139894604683, 0.049884993582963943, 0....</td>\n",
       "      <td>[0.20560163259506226, 0.0005300939083099365, 0...</td>\n",
       "      <td>[0.0, 0.0, 0.1172284334897995, 0.0, 0.0, 0.0, ...</td>\n",
       "      <td>[0.0, 0.04879043251276016, 0.05189426988363266...</td>\n",
       "      <td>[0.0, 0.10512958467006683, 0.02501073107123375...</td>\n",
       "      <td>[0.0, 0.00034336745738983154, 0.12310703098773...</td>\n",
       "      <td>[0.0, 0.0, 0.0, 0.0, 0.0, 0.0, 0.0142215099185...</td>\n",
       "    </tr>\n",
       "  </tbody>\n",
       "</table>\n",
       "<p>1 rows × 12604 columns</p>\n",
       "</div>"
      ],
      "text/plain": [
       "            912bb259-3ad9-457b-9db1-ce1da9016057.jpg  \\\n",
       "0  [0.0064611658453941345, 0.0, 0.127236172556877...   \n",
       "\n",
       "            b166d305-b852-4bdd-83f4-465b20da94fa.jpg  \\\n",
       "0  [0.08396860957145691, 0.002204257994890213, 0....   \n",
       "\n",
       "            68f5a29d-0075-4d60-81c1-ab684a82e50c.jpg  \\\n",
       "0  [0.0, 0.08294190466403961, 0.0, 0.0, 0.0, 0.0,...   \n",
       "\n",
       "            f6a309d7-d247-446a-9b5e-aceefdd4334d.jpg  \\\n",
       "0  [0.0, 0.0018769539892673492, 0.080022066831588...   \n",
       "\n",
       "            2c2b3a6f-15b3-4289-937a-15482d9f5781.jpg  \\\n",
       "0  [0.0, 0.0, 0.12237399071455002, 0.030925899744...   \n",
       "\n",
       "            5e8d17b2-f8e7-403b-bbb1-fa8dfdd3ae6a.jpg  \\\n",
       "0  [0.0, 0.0, 0.11576147377490997, 0.0, 0.0211910...   \n",
       "\n",
       "            ed2f3144-6eeb-47a8-855b-76df8774f39b.jpg  \\\n",
       "0  [0.0, 0.00937836617231369, 0.0, 0.0, 0.0, 0.08...   \n",
       "\n",
       "            570bbec2-55e6-4e8b-834c-dfa45bea3e94.jpg  \\\n",
       "0  [0.0, 0.09970848262310028, 0.0, 0.0, 0.0716813...   \n",
       "\n",
       "            1f99d362-7518-43c9-b50d-c28769512db8.jpg  \\\n",
       "0  [0.0, 0.0, 0.0, 0.03698289021849632, 0.0080186...   \n",
       "\n",
       "            30ea4203-cc60-46fd-9554-5e72ad63c30e.jpg  ...  \\\n",
       "0  [0.0, 0.0, 0.004079833626747131, 0.0, 0.0, 0.0...  ...   \n",
       "\n",
       "            fd973410-5180-43db-8130-bbe3a504bd7b.jpg  \\\n",
       "0  [0.008848115801811218, 0.06159370020031929, 0....   \n",
       "\n",
       "            1fe4acca-e6a7-451b-b0df-217d11ad116c.jpg  \\\n",
       "0  [0.004016006365418434, 0.011385941877961159, 0...   \n",
       "\n",
       "            953368ca-7d6e-433e-aafc-8709cbf7016d.jpg  \\\n",
       "0  [0.08753276616334915, 0.07846993207931519, 0.0...   \n",
       "\n",
       "            6205c840-7f59-405c-9722-5f6652056ec7.jpg  \\\n",
       "0  [0.03163139894604683, 0.049884993582963943, 0....   \n",
       "\n",
       "            b1466df4-594b-4f83-a66c-f9835d982c92.jpg  \\\n",
       "0  [0.20560163259506226, 0.0005300939083099365, 0...   \n",
       "\n",
       "            cdec1c5c-c4b1-42db-afbe-3fa68ea4b87d.jpg  \\\n",
       "0  [0.0, 0.0, 0.1172284334897995, 0.0, 0.0, 0.0, ...   \n",
       "\n",
       "            dc99e40f-6b15-494d-9fb7-f0d02e9781f9.jpg  \\\n",
       "0  [0.0, 0.04879043251276016, 0.05189426988363266...   \n",
       "\n",
       "            c8488028-bf07-4258-a4c2-56d2fe387835.jpg  \\\n",
       "0  [0.0, 0.10512958467006683, 0.02501073107123375...   \n",
       "\n",
       "            c6113145-89c8-47cd-9211-38f29d016cc7.jpg  \\\n",
       "0  [0.0, 0.00034336745738983154, 0.12310703098773...   \n",
       "\n",
       "            ed2aaf88-616c-4e6b-af49-bbdf7c0fbd06.jpg  \n",
       "0  [0.0, 0.0, 0.0, 0.0, 0.0, 0.0, 0.0142215099185...  \n",
       "\n",
       "[1 rows x 12604 columns]"
      ]
     },
     "execution_count": 9,
     "metadata": {},
     "output_type": "execute_result"
    }
   ],
   "source": [
    "import pandas as pd\n",
    "# pd.DataFrame([data])"
   ]
  },
  {
   "cell_type": "code",
   "execution_count": 14,
   "metadata": {},
   "outputs": [
    {
     "data": {
      "text/plain": [
       "((12604,), (12604, 1000))"
      ]
     },
     "execution_count": 14,
     "metadata": {},
     "output_type": "execute_result"
    }
   ],
   "source": [
    "index_ = np.array(list(data.keys()))\n",
    "embedding = np.array(list(data.values()))\n",
    "\n",
    "index_.shape, embedding.shape"
   ]
  },
  {
   "cell_type": "code",
   "execution_count": 15,
   "metadata": {},
   "outputs": [],
   "source": [
    "import faiss"
   ]
  },
  {
   "cell_type": "code",
   "execution_count": 19,
   "metadata": {},
   "outputs": [],
   "source": [
    "# faiss only works with float32\n",
    "embedding =  embedding.astype('float32')"
   ]
  },
  {
   "cell_type": "code",
   "execution_count": 22,
   "metadata": {},
   "outputs": [],
   "source": [
    "idx = faiss.IndexFlatL2(  embedding.shape[1] ) # feed in the size of the image embedding which is 1000 in this case\n",
    "idx.add(embedding)"
   ]
  },
  {
   "cell_type": "code",
   "execution_count": 28,
   "metadata": {},
   "outputs": [],
   "source": [
    "k = 10 # number of similar images\n",
    "\n",
    "D,I = idx.search(np.array(data['ad9b5dab-4531-47ac-8290-fc647a12c201.jpg']).reshape(1,1000), k )"
   ]
  },
  {
   "cell_type": "code",
   "execution_count": 31,
   "metadata": {},
   "outputs": [
    {
     "data": {
      "text/plain": [
       "array([['ad9b5dab-4531-47ac-8290-fc647a12c201.jpg',\n",
       "        '2950bb24-57ef-4984-a23c-da7539bd2f71.jpg',\n",
       "        'fd7dc244-adfb-4803-8035-2af1a36f1842.jpg',\n",
       "        'd5098e3a-01f0-4303-8df0-07ee7db46adc.jpg',\n",
       "        '7f9f9380-723c-4470-9250-c3d4ff7f21a4.jpg',\n",
       "        '31b1afb2-9cbb-4cb1-831f-70e88762d2e6.jpg',\n",
       "        '0e1d21d8-c0a5-421f-b1eb-367658016495.jpg',\n",
       "        '6d57b69f-ec2e-4942-a801-3706c0699592.jpg',\n",
       "        'c45a7fd7-78e6-4583-81a9-a43a71c4b150.jpg',\n",
       "        '741eec9c-666d-4a23-8ce8-c7bd201e7060.jpg']], dtype='<U40')"
      ]
     },
     "execution_count": 31,
     "metadata": {},
     "output_type": "execute_result"
    }
   ],
   "source": [
    "index_[I]"
   ]
  }
 ],
 "metadata": {
  "kernelspec": {
   "display_name": "pandas_env",
   "language": "python",
   "name": "python3"
  },
  "language_info": {
   "codemirror_mode": {
    "name": "ipython",
    "version": 3
   },
   "file_extension": ".py",
   "mimetype": "text/x-python",
   "name": "python",
   "nbconvert_exporter": "python",
   "pygments_lexer": "ipython3",
   "version": "3.9.12"
  },
  "orig_nbformat": 4,
  "vscode": {
   "interpreter": {
    "hash": "c65f6705742fa1ffb66a8d13023e0ff7e98f925180944521e36dce08e54b2db0"
   }
  }
 },
 "nbformat": 4,
 "nbformat_minor": 2
}
